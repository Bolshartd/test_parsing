{
  "cells": [
    {
      "cell_type": "markdown",
      "metadata": {
        "id": "view-in-github",
        "colab_type": "text"
      },
      "source": [
        "<a href=\"https://colab.research.google.com/github/Bolshartd/test_parsing/blob/main/parsing.ipynb\" target=\"_parent\"><img src=\"https://colab.research.google.com/assets/colab-badge.svg\" alt=\"Open In Colab\"/></a>"
      ]
    },
    {
      "cell_type": "code",
      "execution_count": null,
      "metadata": {
        "id": "eGSVYHJgYABO"
      },
      "outputs": [],
      "source": [
        "import requests\n",
        "import bs4\n",
        "import pandas as pd\n"
      ]
    },
    {
      "cell_type": "code",
      "execution_count": null,
      "metadata": {
        "id": "QPqsuExFYABT",
        "outputId": "5a18e4d2-566e-46ca-9166-7a8ba1e4e3e6"
      },
      "outputs": [
        {
          "data": {
            "text/plain": [
              "<Response [200]>"
            ]
          },
          "execution_count": 1030,
          "metadata": {},
          "output_type": "execute_result"
        }
      ],
      "source": [
        "# создаём запрос на источник\n",
        "r = requests.get('https://matchtv.ru/football/england/stats')\n",
        "r"
      ]
    },
    {
      "cell_type": "code",
      "execution_count": null,
      "metadata": {
        "id": "JHRy8aGiYABW"
      },
      "outputs": [],
      "source": [
        "# запускаем парсер\n",
        "soup = bs4.BeautifulSoup(r.text, 'html.parser')"
      ]
    },
    {
      "cell_type": "code",
      "execution_count": null,
      "metadata": {
        "id": "Kh4wu1c-YABZ"
      },
      "outputs": [],
      "source": [
        "attributes = []\n",
        "positions = []\n",
        "# находим данные (часть 1)\n",
        "for i in soup.find_all('td', {'class': \"info table-link\"}):\n",
        "  for j in i.find_all('a'):\n",
        "    club = j.get('href')\n",
        "    # запускаем парсер на нужную страницу\n",
        "    r1 = requests.get(f'https://matchtv.ru{club}/players')\n",
        "    soup1 = bs4.BeautifulSoup(r1.text, 'html.parser')\n",
        "    # находим нужные данные (имя, возраст, рост, вес)\n",
        "    for s in soup1.find_all('tr', {'class': 'club-lineup__item'}):\n",
        "      attributes.append(s.text)"
      ]
    },
    {
      "cell_type": "code",
      "execution_count": null,
      "metadata": {
        "id": "DASiugMJYABc"
      },
      "outputs": [],
      "source": [
        "# создаем датафрейм по имеющимся данным (имя, возраст, рост, вес)\n",
        "df_all = pd.DataFrame(attributes, columns=['date'])"
      ]
    },
    {
      "cell_type": "code",
      "execution_count": null,
      "metadata": {
        "id": "WdmwSDnhYABe"
      },
      "outputs": [],
      "source": [
        "# обрабатываем данные\n",
        "df_all = df_all.replace(to_replace='  ', value='', regex=True)\n",
        "df_all = df_all.replace(to_replace='\\n', value=',', regex=True)\n",
        "df_all['date'] = df_all['date'].str.strip(',')\n",
        "df_all = df_all.replace(to_replace=',,', value=',', regex=True)\n",
        "new_df_all = df_all['date'].str.split(',', expand=True)\n",
        "new_df_all.set_index(0, inplace=True)\n",
        "new_df_all.drop('Имя', axis=0, inplace=True)"
      ]
    },
    {
      "cell_type": "code",
      "execution_count": null,
      "metadata": {
        "id": "mlAOxYjBYABf"
      },
      "outputs": [],
      "source": [
        "final_df = new_df_all.reset_index()\n",
        "total = final_df.fillna('-')\n",
        "total.columns = [['Имя', 'Возраст', 'Рост', 'Вес']]"
      ]
    },
    {
      "cell_type": "code",
      "execution_count": null,
      "metadata": {
        "id": "wOr7bynVYABg"
      },
      "outputs": [],
      "source": [
        "nations = []\n",
        "clubs = []\n",
        "coachs = []\n",
        "# находим данные (часть 2)\n",
        "for i in soup.find_all('td', {'class': \"info table-link\"}):\n",
        "  for j in i.find_all('a'):\n",
        "    # запускаем парсер на нужную страницу\n",
        "    club = j.get('href')\n",
        "    r1 = requests.get(f'https://matchtv.ru{club}/players')\n",
        "    soup1 = bs4.BeautifulSoup(r1.text, 'html.parser')\n",
        "  # находим нужные данные (национальность, тренер, клуб)\n",
        "  for s in soup1.find_all('img', {'class': 'club-lineup__icon'}):\n",
        "    s = str(s)\n",
        "    a = s.find('alt=\"')\n",
        "    b = s.find('\" cl')\n",
        "    nations.append(s[a + 5:b])\n",
        "    for club in soup1.find_all('h1', {'class': 'heading caption__heading'}):\n",
        "      clubs.append(club.text)\n",
        "    for coach in soup1.find_all('div', {'class': 'heading-5'}):\n",
        "      coachs.append(coach.text)"
      ]
    },
    {
      "cell_type": "code",
      "execution_count": null,
      "metadata": {
        "id": "jPn6JSaAYABi"
      },
      "outputs": [],
      "source": [
        "# создаем датафрейм по имеющимся данным (национальность, тренер, клуб)\n",
        "df_n = pd.DataFrame([nations, coachs, clubs]).T\n",
        "df_n.columns = [['Национальность', 'Тренер', 'Клуб']]"
      ]
    },
    {
      "cell_type": "code",
      "execution_count": null,
      "metadata": {
        "id": "CMDNgtquYABk",
        "outputId": "f7279504-8e89-4bfe-ef31-1e1e7ae20100"
      },
      "outputs": [
        {
          "data": {
            "text/html": [
              "<div>\n",
              "<style scoped>\n",
              "    .dataframe tbody tr th:only-of-type {\n",
              "        vertical-align: middle;\n",
              "    }\n",
              "\n",
              "    .dataframe tbody tr th {\n",
              "        vertical-align: top;\n",
              "    }\n",
              "\n",
              "    .dataframe thead tr th {\n",
              "        text-align: left;\n",
              "    }\n",
              "</style>\n",
              "<table border=\"1\" class=\"dataframe\">\n",
              "  <thead>\n",
              "    <tr>\n",
              "      <th></th>\n",
              "      <th>Имя</th>\n",
              "      <th>Возраст</th>\n",
              "      <th>Рост</th>\n",
              "      <th>Вес</th>\n",
              "      <th>Национальность</th>\n",
              "      <th>Тренер</th>\n",
              "      <th>Клуб</th>\n",
              "    </tr>\n",
              "  </thead>\n",
              "  <tbody>\n",
              "    <tr>\n",
              "      <th>0</th>\n",
              "      <td>Рунарссон Рунар</td>\n",
              "      <td>28</td>\n",
              "      <td>186</td>\n",
              "      <td>76</td>\n",
              "      <td>Iceland</td>\n",
              "      <td>Микель Артета</td>\n",
              "      <td>Арсенал</td>\n",
              "    </tr>\n",
              "    <tr>\n",
              "      <th>1</th>\n",
              "      <td>Рэмсдейл Арон</td>\n",
              "      <td>24</td>\n",
              "      <td>188</td>\n",
              "      <td>77</td>\n",
              "      <td>England</td>\n",
              "      <td>Микель Артета</td>\n",
              "      <td>Арсенал</td>\n",
              "    </tr>\n",
              "    <tr>\n",
              "      <th>2</th>\n",
              "      <td>Тернер Мэтт</td>\n",
              "      <td>28</td>\n",
              "      <td>191</td>\n",
              "      <td>80</td>\n",
              "      <td>United states</td>\n",
              "      <td>Микель Артета</td>\n",
              "      <td>Арсенал</td>\n",
              "    </tr>\n",
              "    <tr>\n",
              "      <th>3</th>\n",
              "      <td>Хейн Карл-Якоб</td>\n",
              "      <td>20</td>\n",
              "      <td>193</td>\n",
              "      <td>-</td>\n",
              "      <td>Estonia</td>\n",
              "      <td>Микель Артета</td>\n",
              "      <td>Арсенал</td>\n",
              "    </tr>\n",
              "    <tr>\n",
              "      <th>4</th>\n",
              "      <td>Хиллсон Джеймс</td>\n",
              "      <td>22</td>\n",
              "      <td>-</td>\n",
              "      <td>-</td>\n",
              "      <td>England</td>\n",
              "      <td>Микель Артета</td>\n",
              "      <td>Арсенал</td>\n",
              "    </tr>\n",
              "    <tr>\n",
              "      <th>...</th>\n",
              "      <td>...</td>\n",
              "      <td>...</td>\n",
              "      <td>...</td>\n",
              "      <td>...</td>\n",
              "      <td>...</td>\n",
              "      <td>...</td>\n",
              "      <td>...</td>\n",
              "    </tr>\n",
              "    <tr>\n",
              "      <th>774</th>\n",
              "      <td>Армстронг Адам</td>\n",
              "      <td>26</td>\n",
              "      <td>179</td>\n",
              "      <td>70</td>\n",
              "      <td>England</td>\n",
              "      <td>Рубен Селлес</td>\n",
              "      <td>Саутгемптон</td>\n",
              "    </tr>\n",
              "    <tr>\n",
              "      <th>775</th>\n",
              "      <td>Мара Секу</td>\n",
              "      <td>20</td>\n",
              "      <td>184</td>\n",
              "      <td>76</td>\n",
              "      <td>France</td>\n",
              "      <td>Рубен Селлес</td>\n",
              "      <td>Саутгемптон</td>\n",
              "    </tr>\n",
              "    <tr>\n",
              "      <th>776</th>\n",
              "      <td>Морган Джиммм</td>\n",
              "      <td>17</td>\n",
              "      <td>-</td>\n",
              "      <td>-</td>\n",
              "      <td>England</td>\n",
              "      <td>Рубен Селлес</td>\n",
              "      <td>Саутгемптон</td>\n",
              "    </tr>\n",
              "    <tr>\n",
              "      <th>777</th>\n",
              "      <td>Онуачу Пауль</td>\n",
              "      <td>28</td>\n",
              "      <td>201</td>\n",
              "      <td>84</td>\n",
              "      <td>Nigeria</td>\n",
              "      <td>Рубен Селлес</td>\n",
              "      <td>Саутгемптон</td>\n",
              "    </tr>\n",
              "    <tr>\n",
              "      <th>778</th>\n",
              "      <td>Сулемана Камалдин</td>\n",
              "      <td>21</td>\n",
              "      <td>174</td>\n",
              "      <td>69</td>\n",
              "      <td>Ghana</td>\n",
              "      <td>Рубен Селлес</td>\n",
              "      <td>Саутгемптон</td>\n",
              "    </tr>\n",
              "  </tbody>\n",
              "</table>\n",
              "<p>779 rows × 7 columns</p>\n",
              "</div>"
            ],
            "text/plain": [
              "                   Имя Возраст Рост Вес Национальность         Тренер  \\\n",
              "0      Рунарссон Рунар      28  186  76        Iceland  Микель Артета   \n",
              "1        Рэмсдейл Арон      24  188  77        England  Микель Артета   \n",
              "2          Тернер Мэтт      28  191  80  United states  Микель Артета   \n",
              "3       Хейн Карл-Якоб      20  193   -        Estonia  Микель Артета   \n",
              "4       Хиллсон Джеймс      22    -   -        England  Микель Артета   \n",
              "..                 ...     ...  ...  ..            ...            ...   \n",
              "774     Армстронг Адам      26  179  70        England   Рубен Селлес   \n",
              "775          Мара Секу      20  184  76         France   Рубен Селлес   \n",
              "776      Морган Джиммм      17    -   -        England   Рубен Селлес   \n",
              "777       Онуачу Пауль      28  201  84        Nigeria   Рубен Селлес   \n",
              "778  Сулемана Камалдин      21  174  69          Ghana   Рубен Селлес   \n",
              "\n",
              "            Клуб  \n",
              "0        Арсенал  \n",
              "1        Арсенал  \n",
              "2        Арсенал  \n",
              "3        Арсенал  \n",
              "4        Арсенал  \n",
              "..           ...  \n",
              "774  Саутгемптон  \n",
              "775  Саутгемптон  \n",
              "776  Саутгемптон  \n",
              "777  Саутгемптон  \n",
              "778  Саутгемптон  \n",
              "\n",
              "[779 rows x 7 columns]"
            ]
          },
          "execution_count": 1038,
          "metadata": {},
          "output_type": "execute_result"
        }
      ],
      "source": [
        "# объединяем данные (получаем промежуточную таблицу)\n",
        "table = total.join(df_n)\n",
        "table"
      ]
    },
    {
      "cell_type": "code",
      "execution_count": null,
      "metadata": {
        "id": "G4JRk0pTYABl"
      },
      "outputs": [],
      "source": [
        "positions = []\n",
        "# находим данные (часть 3)\n",
        "for i in soup.find_all('td', {'class': \"info table-link\"}):\n",
        "  for j in i.find_all('a'):\n",
        "    club = j.get('href')\n",
        "    # запускаем парсер на нужную страницу\n",
        "    r2 = requests.get(f'https://matchtv.ru{club}/players')\n",
        "    soup2 = bs4.BeautifulSoup(r2.text, 'html.parser')\n",
        "    # находим нужные данные (позиция)\n",
        "    for position in soup2.find_all('section', {'class': 'content-section content-section_underlined_header content-section_no_padding content-section_margin_top'}):\n",
        "        positions.append(position.text)"
      ]
    },
    {
      "cell_type": "code",
      "execution_count": null,
      "metadata": {
        "id": "pIzjbV-QYABn"
      },
      "outputs": [],
      "source": [
        "# обрабатываем данные (позиция)\n",
        "a =[]\n",
        "for i, row in table['Имя'].iterrows():\n",
        "    a.append(row['Имя'])\n",
        "w = []\n",
        "for j in positions:\n",
        "    for h in a:\n",
        "        if h in j:\n",
        "            a1 = j.find(\"'\\n\")\n",
        "            b1 = j.find('\\nСостав')\n",
        "            k = j[a1+7:b1-10]\n",
        "            w.append(f'{h}, {k}')"
      ]
    },
    {
      "cell_type": "code",
      "execution_count": null,
      "metadata": {
        "id": "EJYH2BDtYABq"
      },
      "outputs": [],
      "source": [
        "# создаем датафрейм по имеющимся данным (позиция)\n",
        "df_p = pd.DataFrame(w)\n",
        "df_p = df_p[0].str.split(',', expand=True)\n",
        "df_p.columns = [['Имя', 'Позиция']]"
      ]
    },
    {
      "cell_type": "code",
      "execution_count": null,
      "metadata": {
        "id": "xZmXCqChYABs",
        "outputId": "e0fd9306-5efe-4db2-82be-9dafb21ab8f0"
      },
      "outputs": [
        {
          "data": {
            "text/html": [
              "<div>\n",
              "<style scoped>\n",
              "    .dataframe tbody tr th:only-of-type {\n",
              "        vertical-align: middle;\n",
              "    }\n",
              "\n",
              "    .dataframe tbody tr th {\n",
              "        vertical-align: top;\n",
              "    }\n",
              "\n",
              "    .dataframe thead tr th {\n",
              "        text-align: left;\n",
              "    }\n",
              "</style>\n",
              "<table border=\"1\" class=\"dataframe\">\n",
              "  <thead>\n",
              "    <tr>\n",
              "      <th></th>\n",
              "      <th>Имя</th>\n",
              "      <th>Возраст</th>\n",
              "      <th>Рост</th>\n",
              "      <th>Вес</th>\n",
              "      <th>Национальность</th>\n",
              "      <th>Тренер</th>\n",
              "      <th>Клуб</th>\n",
              "      <th>Позиция</th>\n",
              "    </tr>\n",
              "  </thead>\n",
              "  <tbody>\n",
              "    <tr>\n",
              "      <th>0</th>\n",
              "      <td>Рунарссон Рунар</td>\n",
              "      <td>28</td>\n",
              "      <td>186</td>\n",
              "      <td>76</td>\n",
              "      <td>Iceland</td>\n",
              "      <td>Микель Артета</td>\n",
              "      <td>Арсенал</td>\n",
              "      <td>Вратари</td>\n",
              "    </tr>\n",
              "    <tr>\n",
              "      <th>1</th>\n",
              "      <td>Рэмсдейл Арон</td>\n",
              "      <td>24</td>\n",
              "      <td>188</td>\n",
              "      <td>77</td>\n",
              "      <td>England</td>\n",
              "      <td>Микель Артета</td>\n",
              "      <td>Арсенал</td>\n",
              "      <td>Вратари</td>\n",
              "    </tr>\n",
              "    <tr>\n",
              "      <th>2</th>\n",
              "      <td>Тернер Мэтт</td>\n",
              "      <td>28</td>\n",
              "      <td>191</td>\n",
              "      <td>80</td>\n",
              "      <td>United states</td>\n",
              "      <td>Микель Артета</td>\n",
              "      <td>Арсенал</td>\n",
              "      <td>Вратари</td>\n",
              "    </tr>\n",
              "    <tr>\n",
              "      <th>3</th>\n",
              "      <td>Хейн Карл-Якоб</td>\n",
              "      <td>20</td>\n",
              "      <td>193</td>\n",
              "      <td>-</td>\n",
              "      <td>Estonia</td>\n",
              "      <td>Микель Артета</td>\n",
              "      <td>Арсенал</td>\n",
              "      <td>Вратари</td>\n",
              "    </tr>\n",
              "    <tr>\n",
              "      <th>4</th>\n",
              "      <td>Хиллсон Джеймс</td>\n",
              "      <td>22</td>\n",
              "      <td>-</td>\n",
              "      <td>-</td>\n",
              "      <td>England</td>\n",
              "      <td>Микель Артета</td>\n",
              "      <td>Арсенал</td>\n",
              "      <td>Вратари</td>\n",
              "    </tr>\n",
              "    <tr>\n",
              "      <th>...</th>\n",
              "      <td>...</td>\n",
              "      <td>...</td>\n",
              "      <td>...</td>\n",
              "      <td>...</td>\n",
              "      <td>...</td>\n",
              "      <td>...</td>\n",
              "      <td>...</td>\n",
              "      <td>...</td>\n",
              "    </tr>\n",
              "    <tr>\n",
              "      <th>774</th>\n",
              "      <td>Армстронг Адам</td>\n",
              "      <td>26</td>\n",
              "      <td>179</td>\n",
              "      <td>70</td>\n",
              "      <td>England</td>\n",
              "      <td>Рубен Селлес</td>\n",
              "      <td>Саутгемптон</td>\n",
              "      <td>Нападающие</td>\n",
              "    </tr>\n",
              "    <tr>\n",
              "      <th>775</th>\n",
              "      <td>Мара Секу</td>\n",
              "      <td>20</td>\n",
              "      <td>184</td>\n",
              "      <td>76</td>\n",
              "      <td>France</td>\n",
              "      <td>Рубен Селлес</td>\n",
              "      <td>Саутгемптон</td>\n",
              "      <td>Нападающие</td>\n",
              "    </tr>\n",
              "    <tr>\n",
              "      <th>776</th>\n",
              "      <td>Морган Джиммм</td>\n",
              "      <td>17</td>\n",
              "      <td>-</td>\n",
              "      <td>-</td>\n",
              "      <td>England</td>\n",
              "      <td>Рубен Селлес</td>\n",
              "      <td>Саутгемптон</td>\n",
              "      <td>Нападающие</td>\n",
              "    </tr>\n",
              "    <tr>\n",
              "      <th>777</th>\n",
              "      <td>Онуачу Пауль</td>\n",
              "      <td>28</td>\n",
              "      <td>201</td>\n",
              "      <td>84</td>\n",
              "      <td>Nigeria</td>\n",
              "      <td>Рубен Селлес</td>\n",
              "      <td>Саутгемптон</td>\n",
              "      <td>Нападающие</td>\n",
              "    </tr>\n",
              "    <tr>\n",
              "      <th>778</th>\n",
              "      <td>Сулемана Камалдин</td>\n",
              "      <td>21</td>\n",
              "      <td>174</td>\n",
              "      <td>69</td>\n",
              "      <td>Ghana</td>\n",
              "      <td>Рубен Селлес</td>\n",
              "      <td>Саутгемптон</td>\n",
              "      <td>Нападающие</td>\n",
              "    </tr>\n",
              "  </tbody>\n",
              "</table>\n",
              "<p>779 rows × 8 columns</p>\n",
              "</div>"
            ],
            "text/plain": [
              "                   Имя Возраст Рост Вес Национальность         Тренер  \\\n",
              "0      Рунарссон Рунар      28  186  76        Iceland  Микель Артета   \n",
              "1        Рэмсдейл Арон      24  188  77        England  Микель Артета   \n",
              "2          Тернер Мэтт      28  191  80  United states  Микель Артета   \n",
              "3       Хейн Карл-Якоб      20  193   -        Estonia  Микель Артета   \n",
              "4       Хиллсон Джеймс      22    -   -        England  Микель Артета   \n",
              "..                 ...     ...  ...  ..            ...            ...   \n",
              "774     Армстронг Адам      26  179  70        England   Рубен Селлес   \n",
              "775          Мара Секу      20  184  76         France   Рубен Селлес   \n",
              "776      Морган Джиммм      17    -   -        England   Рубен Селлес   \n",
              "777       Онуачу Пауль      28  201  84        Nigeria   Рубен Селлес   \n",
              "778  Сулемана Камалдин      21  174  69          Ghana   Рубен Селлес   \n",
              "\n",
              "            Клуб      Позиция  \n",
              "0        Арсенал      Вратари  \n",
              "1        Арсенал      Вратари  \n",
              "2        Арсенал      Вратари  \n",
              "3        Арсенал      Вратари  \n",
              "4        Арсенал      Вратари  \n",
              "..           ...          ...  \n",
              "774  Саутгемптон   Нападающие  \n",
              "775  Саутгемптон   Нападающие  \n",
              "776  Саутгемптон   Нападающие  \n",
              "777  Саутгемптон   Нападающие  \n",
              "778  Саутгемптон   Нападающие  \n",
              "\n",
              "[779 rows x 8 columns]"
            ]
          },
          "execution_count": 1072,
          "metadata": {},
          "output_type": "execute_result"
        }
      ],
      "source": [
        "# объединяем все данные в итоговую позицию\n",
        "df_final = pd.merge(table, df_p)\n",
        "df_final.drop_duplicates(inplace=True)\n",
        "finalTable = df_final.reset_index(drop=True)\n",
        "finalTable"
      ]
    },
    {
      "cell_type": "code",
      "execution_count": null,
      "metadata": {
        "id": "r_V7jYmhYABt"
      },
      "outputs": [],
      "source": [
        "save = finalTable.to_csv('C:\\\\work\\\\JupiterNotebook\\\\finalTable.csv')"
      ]
    }
  ],
  "metadata": {
    "kernelspec": {
      "display_name": "Python 3",
      "language": "python",
      "name": "python3"
    },
    "language_info": {
      "codemirror_mode": {
        "name": "ipython",
        "version": 3
      },
      "file_extension": ".py",
      "mimetype": "text/x-python",
      "name": "python",
      "nbconvert_exporter": "python",
      "pygments_lexer": "ipython3",
      "version": "3.10.8"
    },
    "orig_nbformat": 4,
    "colab": {
      "provenance": [],
      "include_colab_link": true
    }
  },
  "nbformat": 4,
  "nbformat_minor": 0
}